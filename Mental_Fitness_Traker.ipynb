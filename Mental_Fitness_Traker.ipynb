{
  "cells": [
    {
      "cell_type": "markdown",
      "metadata": {
        "id": "view-in-github",
        "colab_type": "text"
      },
      "source": [
        "<a href=\"https://colab.research.google.com/github/kc-m13/mental-health-tracker/blob/main/Mental_Fitness_Traker.ipynb\" target=\"_parent\"><img src=\"https://colab.research.google.com/assets/colab-badge.svg\" alt=\"Open In Colab\"/></a>"
      ]
    },
    {
      "cell_type": "markdown",
      "source": [
        "# **Mental Fitness Tracker**\n"
      ],
      "metadata": {
        "id": "QUXThx-rVGLa"
      }
    },
    {
      "cell_type": "markdown",
      "metadata": {
        "id": "wvLub3umnw_m"
      },
      "source": [
        "# **Importing The Libraries**"
      ]
    },
    {
      "cell_type": "code",
      "execution_count": null,
      "metadata": {
        "id": "dWXArd7QDtFB",
        "colab": {
          "base_uri": "https://localhost:8080/"
        },
        "outputId": "2b2d9542-8144-4dd1-f9d7-615825d5fad8"
      },
      "outputs": [
        {
          "output_type": "stream",
          "name": "stdout",
          "text": [
            "Drive already mounted at /content/drive; to attempt to forcibly remount, call drive.mount(\"/content/drive\", force_remount=True).\n"
          ]
        }
      ],
      "source": [
        "from google.colab import drive\n",
        "drive.mount('/content/drive')"
      ]
    },
    {
      "cell_type": "code",
      "execution_count": null,
      "metadata": {
        "id": "QaRE6NgAnj2U"
      },
      "outputs": [],
      "source": [
        "import pandas as pd\n",
        "import numpy as np\n",
        "import matplotlib.pyplot as plt\n"
      ]
    },
    {
      "cell_type": "markdown",
      "metadata": {
        "id": "rozKdyPtoNC2"
      },
      "source": [
        "# **Importing The Dataset**"
      ]
    },
    {
      "cell_type": "code",
      "execution_count": null,
      "metadata": {
        "colab": {
          "base_uri": "https://localhost:8080/",
          "height": 354
        },
        "id": "kXcFYQGjoWAe",
        "outputId": "665399fb-3543-4a6e-e630-c338193909e4"
      },
      "outputs": [
        {
          "output_type": "execute_result",
          "data": {
            "text/plain": [
              "        Entity Code  Year  \\\n",
              "0  Afghanistan  AFG  1990   \n",
              "1  Afghanistan  AFG  1991   \n",
              "2  Afghanistan  AFG  1992   \n",
              "3  Afghanistan  AFG  1993   \n",
              "4  Afghanistan  AFG  1994   \n",
              "\n",
              "   Prevalence - Schizophrenia - Sex: Both - Age: Age-standardized (Percent)  \\\n",
              "0                                           0.228979                          \n",
              "1                                           0.228120                          \n",
              "2                                           0.227328                          \n",
              "3                                           0.226468                          \n",
              "4                                           0.225567                          \n",
              "\n",
              "   Prevalence - Bipolar disorder - Sex: Both - Age: Age-standardized (Percent)  \\\n",
              "0                                           0.721207                             \n",
              "1                                           0.719952                             \n",
              "2                                           0.718418                             \n",
              "3                                           0.717452                             \n",
              "4                                           0.717012                             \n",
              "\n",
              "   Prevalence - Eating disorders - Sex: Both - Age: Age-standardized (Percent)  \\\n",
              "0                                           0.131001                             \n",
              "1                                           0.126395                             \n",
              "2                                           0.121832                             \n",
              "3                                           0.117942                             \n",
              "4                                           0.114547                             \n",
              "\n",
              "   Prevalence - Anxiety disorders - Sex: Both - Age: Age-standardized (Percent)  \\\n",
              "0                                           4.835127                              \n",
              "1                                           4.821765                              \n",
              "2                                           4.801434                              \n",
              "3                                           4.789363                              \n",
              "4                                           4.784923                              \n",
              "\n",
              "   Prevalence - Drug use disorders - Sex: Both - Age: Age-standardized (Percent)  \\\n",
              "0                                           0.454202                               \n",
              "1                                           0.447112                               \n",
              "2                                           0.441190                               \n",
              "3                                           0.435581                               \n",
              "4                                           0.431822                               \n",
              "\n",
              "   Prevalence - Depressive disorders - Sex: Both - Age: Age-standardized (Percent)  \\\n",
              "0                                           5.125291                                 \n",
              "1                                           5.116306                                 \n",
              "2                                           5.106558                                 \n",
              "3                                           5.100328                                 \n",
              "4                                           5.099424                                 \n",
              "\n",
              "   Prevalence - Alcohol use disorders - Sex: Both - Age: Age-standardized (Percent)  \\\n",
              "0                                           0.444036                                  \n",
              "1                                           0.444250                                  \n",
              "2                                           0.445501                                  \n",
              "3                                           0.445958                                  \n",
              "4                                           0.445779                                  \n",
              "\n",
              "   DALYs (Disability-Adjusted Life Years) - Mental disorders - Sex: Both - Age: All Ages (Percent)  \n",
              "0                                           1.696670                                                \n",
              "1                                           1.734281                                                \n",
              "2                                           1.791189                                                \n",
              "3                                           1.776779                                                \n",
              "4                                           1.712986                                                "
            ],
            "text/html": [
              "\n",
              "  <div id=\"df-f13ebdce-c45a-4e18-a804-ee8a4dcbe8d1\">\n",
              "    <div class=\"colab-df-container\">\n",
              "      <div>\n",
              "<style scoped>\n",
              "    .dataframe tbody tr th:only-of-type {\n",
              "        vertical-align: middle;\n",
              "    }\n",
              "\n",
              "    .dataframe tbody tr th {\n",
              "        vertical-align: top;\n",
              "    }\n",
              "\n",
              "    .dataframe thead th {\n",
              "        text-align: right;\n",
              "    }\n",
              "</style>\n",
              "<table border=\"1\" class=\"dataframe\">\n",
              "  <thead>\n",
              "    <tr style=\"text-align: right;\">\n",
              "      <th></th>\n",
              "      <th>Entity</th>\n",
              "      <th>Code</th>\n",
              "      <th>Year</th>\n",
              "      <th>Prevalence - Schizophrenia - Sex: Both - Age: Age-standardized (Percent)</th>\n",
              "      <th>Prevalence - Bipolar disorder - Sex: Both - Age: Age-standardized (Percent)</th>\n",
              "      <th>Prevalence - Eating disorders - Sex: Both - Age: Age-standardized (Percent)</th>\n",
              "      <th>Prevalence - Anxiety disorders - Sex: Both - Age: Age-standardized (Percent)</th>\n",
              "      <th>Prevalence - Drug use disorders - Sex: Both - Age: Age-standardized (Percent)</th>\n",
              "      <th>Prevalence - Depressive disorders - Sex: Both - Age: Age-standardized (Percent)</th>\n",
              "      <th>Prevalence - Alcohol use disorders - Sex: Both - Age: Age-standardized (Percent)</th>\n",
              "      <th>DALYs (Disability-Adjusted Life Years) - Mental disorders - Sex: Both - Age: All Ages (Percent)</th>\n",
              "    </tr>\n",
              "  </thead>\n",
              "  <tbody>\n",
              "    <tr>\n",
              "      <th>0</th>\n",
              "      <td>Afghanistan</td>\n",
              "      <td>AFG</td>\n",
              "      <td>1990</td>\n",
              "      <td>0.228979</td>\n",
              "      <td>0.721207</td>\n",
              "      <td>0.131001</td>\n",
              "      <td>4.835127</td>\n",
              "      <td>0.454202</td>\n",
              "      <td>5.125291</td>\n",
              "      <td>0.444036</td>\n",
              "      <td>1.696670</td>\n",
              "    </tr>\n",
              "    <tr>\n",
              "      <th>1</th>\n",
              "      <td>Afghanistan</td>\n",
              "      <td>AFG</td>\n",
              "      <td>1991</td>\n",
              "      <td>0.228120</td>\n",
              "      <td>0.719952</td>\n",
              "      <td>0.126395</td>\n",
              "      <td>4.821765</td>\n",
              "      <td>0.447112</td>\n",
              "      <td>5.116306</td>\n",
              "      <td>0.444250</td>\n",
              "      <td>1.734281</td>\n",
              "    </tr>\n",
              "    <tr>\n",
              "      <th>2</th>\n",
              "      <td>Afghanistan</td>\n",
              "      <td>AFG</td>\n",
              "      <td>1992</td>\n",
              "      <td>0.227328</td>\n",
              "      <td>0.718418</td>\n",
              "      <td>0.121832</td>\n",
              "      <td>4.801434</td>\n",
              "      <td>0.441190</td>\n",
              "      <td>5.106558</td>\n",
              "      <td>0.445501</td>\n",
              "      <td>1.791189</td>\n",
              "    </tr>\n",
              "    <tr>\n",
              "      <th>3</th>\n",
              "      <td>Afghanistan</td>\n",
              "      <td>AFG</td>\n",
              "      <td>1993</td>\n",
              "      <td>0.226468</td>\n",
              "      <td>0.717452</td>\n",
              "      <td>0.117942</td>\n",
              "      <td>4.789363</td>\n",
              "      <td>0.435581</td>\n",
              "      <td>5.100328</td>\n",
              "      <td>0.445958</td>\n",
              "      <td>1.776779</td>\n",
              "    </tr>\n",
              "    <tr>\n",
              "      <th>4</th>\n",
              "      <td>Afghanistan</td>\n",
              "      <td>AFG</td>\n",
              "      <td>1994</td>\n",
              "      <td>0.225567</td>\n",
              "      <td>0.717012</td>\n",
              "      <td>0.114547</td>\n",
              "      <td>4.784923</td>\n",
              "      <td>0.431822</td>\n",
              "      <td>5.099424</td>\n",
              "      <td>0.445779</td>\n",
              "      <td>1.712986</td>\n",
              "    </tr>\n",
              "  </tbody>\n",
              "</table>\n",
              "</div>\n",
              "      <button class=\"colab-df-convert\" onclick=\"convertToInteractive('df-f13ebdce-c45a-4e18-a804-ee8a4dcbe8d1')\"\n",
              "              title=\"Convert this dataframe to an interactive table.\"\n",
              "              style=\"display:none;\">\n",
              "        \n",
              "  <svg xmlns=\"http://www.w3.org/2000/svg\" height=\"24px\"viewBox=\"0 0 24 24\"\n",
              "       width=\"24px\">\n",
              "    <path d=\"M0 0h24v24H0V0z\" fill=\"none\"/>\n",
              "    <path d=\"M18.56 5.44l.94 2.06.94-2.06 2.06-.94-2.06-.94-.94-2.06-.94 2.06-2.06.94zm-11 1L8.5 8.5l.94-2.06 2.06-.94-2.06-.94L8.5 2.5l-.94 2.06-2.06.94zm10 10l.94 2.06.94-2.06 2.06-.94-2.06-.94-.94-2.06-.94 2.06-2.06.94z\"/><path d=\"M17.41 7.96l-1.37-1.37c-.4-.4-.92-.59-1.43-.59-.52 0-1.04.2-1.43.59L10.3 9.45l-7.72 7.72c-.78.78-.78 2.05 0 2.83L4 21.41c.39.39.9.59 1.41.59.51 0 1.02-.2 1.41-.59l7.78-7.78 2.81-2.81c.8-.78.8-2.07 0-2.86zM5.41 20L4 18.59l7.72-7.72 1.47 1.35L5.41 20z\"/>\n",
              "  </svg>\n",
              "      </button>\n",
              "      \n",
              "  <style>\n",
              "    .colab-df-container {\n",
              "      display:flex;\n",
              "      flex-wrap:wrap;\n",
              "      gap: 12px;\n",
              "    }\n",
              "\n",
              "    .colab-df-convert {\n",
              "      background-color: #E8F0FE;\n",
              "      border: none;\n",
              "      border-radius: 50%;\n",
              "      cursor: pointer;\n",
              "      display: none;\n",
              "      fill: #1967D2;\n",
              "      height: 32px;\n",
              "      padding: 0 0 0 0;\n",
              "      width: 32px;\n",
              "    }\n",
              "\n",
              "    .colab-df-convert:hover {\n",
              "      background-color: #E2EBFA;\n",
              "      box-shadow: 0px 1px 2px rgba(60, 64, 67, 0.3), 0px 1px 3px 1px rgba(60, 64, 67, 0.15);\n",
              "      fill: #174EA6;\n",
              "    }\n",
              "\n",
              "    [theme=dark] .colab-df-convert {\n",
              "      background-color: #3B4455;\n",
              "      fill: #D2E3FC;\n",
              "    }\n",
              "\n",
              "    [theme=dark] .colab-df-convert:hover {\n",
              "      background-color: #434B5C;\n",
              "      box-shadow: 0px 1px 3px 1px rgba(0, 0, 0, 0.15);\n",
              "      filter: drop-shadow(0px 1px 2px rgba(0, 0, 0, 0.3));\n",
              "      fill: #FFFFFF;\n",
              "    }\n",
              "  </style>\n",
              "\n",
              "      <script>\n",
              "        const buttonEl =\n",
              "          document.querySelector('#df-f13ebdce-c45a-4e18-a804-ee8a4dcbe8d1 button.colab-df-convert');\n",
              "        buttonEl.style.display =\n",
              "          google.colab.kernel.accessAllowed ? 'block' : 'none';\n",
              "\n",
              "        async function convertToInteractive(key) {\n",
              "          const element = document.querySelector('#df-f13ebdce-c45a-4e18-a804-ee8a4dcbe8d1');\n",
              "          const dataTable =\n",
              "            await google.colab.kernel.invokeFunction('convertToInteractive',\n",
              "                                                     [key], {});\n",
              "          if (!dataTable) return;\n",
              "\n",
              "          const docLinkHtml = 'Like what you see? Visit the ' +\n",
              "            '<a target=\"_blank\" href=https://colab.research.google.com/notebooks/data_table.ipynb>data table notebook</a>'\n",
              "            + ' to learn more about interactive tables.';\n",
              "          element.innerHTML = '';\n",
              "          dataTable['output_type'] = 'display_data';\n",
              "          await google.colab.output.renderOutput(dataTable, element);\n",
              "          const docLink = document.createElement('div');\n",
              "          docLink.innerHTML = docLinkHtml;\n",
              "          element.appendChild(docLink);\n",
              "        }\n",
              "      </script>\n",
              "    </div>\n",
              "  </div>\n",
              "  "
            ]
          },
          "metadata": {},
          "execution_count": 4
        }
      ],
      "source": [
        "data1=pd.read_csv('/content/drive/MyDrive/Datasets/mental-and-substance-use-as-share-of-disease.csv')\n",
        "data2=pd.read_csv('/content/drive/MyDrive/Datasets/prevalence-by-mental-and-substance-use-disorder.csv')\n",
        "\n",
        "#Merging the Dataset for optimal results\n",
        "\n",
        "dataset=pd.merge(data2,data1)\n",
        "dataset.head()"
      ]
    },
    {
      "cell_type": "markdown",
      "metadata": {
        "id": "lXRVNRRMp5Zo"
      },
      "source": [
        "# **Cleaning the Dataset**\n",
        "\n",
        "\n",
        "\n"
      ]
    },
    {
      "cell_type": "code",
      "execution_count": null,
      "metadata": {
        "colab": {
          "base_uri": "https://localhost:8080/"
        },
        "id": "EaNyU6ZkqDgL",
        "outputId": "5a4441af-0113-42b0-e028-d3fa2dd39372"
      },
      "outputs": [
        {
          "output_type": "execute_result",
          "data": {
            "text/plain": [
              "Entity                                                                                               0\n",
              "Code                                                                                               690\n",
              "Year                                                                                                 0\n",
              "Prevalence - Schizophrenia - Sex: Both - Age: Age-standardized (Percent)                             0\n",
              "Prevalence - Bipolar disorder - Sex: Both - Age: Age-standardized (Percent)                          0\n",
              "Prevalence - Eating disorders - Sex: Both - Age: Age-standardized (Percent)                          0\n",
              "Prevalence - Anxiety disorders - Sex: Both - Age: Age-standardized (Percent)                         0\n",
              "Prevalence - Drug use disorders - Sex: Both - Age: Age-standardized (Percent)                        0\n",
              "Prevalence - Depressive disorders - Sex: Both - Age: Age-standardized (Percent)                      0\n",
              "Prevalence - Alcohol use disorders - Sex: Both - Age: Age-standardized (Percent)                     0\n",
              "DALYs (Disability-Adjusted Life Years) - Mental disorders - Sex: Both - Age: All Ages (Percent)      0\n",
              "dtype: int64"
            ]
          },
          "metadata": {},
          "execution_count": 5
        }
      ],
      "source": [
        "dataset.isnull().sum()"
      ]
    },
    {
      "cell_type": "code",
      "execution_count": null,
      "metadata": {
        "id": "AhBQG1WSqMYg"
      },
      "outputs": [],
      "source": [
        "dataset.drop('Code',axis=1,inplace=True)"
      ]
    },
    {
      "cell_type": "code",
      "execution_count": null,
      "metadata": {
        "colab": {
          "base_uri": "https://localhost:8080/"
        },
        "id": "O95lcCJvqYUI",
        "outputId": "6dcd00c9-6fb7-4b26-9886-25421de213fc"
      },
      "outputs": [
        {
          "output_type": "execute_result",
          "data": {
            "text/plain": [
              "Entity                                                                                             0\n",
              "Year                                                                                               0\n",
              "Prevalence - Schizophrenia - Sex: Both - Age: Age-standardized (Percent)                           0\n",
              "Prevalence - Bipolar disorder - Sex: Both - Age: Age-standardized (Percent)                        0\n",
              "Prevalence - Eating disorders - Sex: Both - Age: Age-standardized (Percent)                        0\n",
              "Prevalence - Anxiety disorders - Sex: Both - Age: Age-standardized (Percent)                       0\n",
              "Prevalence - Drug use disorders - Sex: Both - Age: Age-standardized (Percent)                      0\n",
              "Prevalence - Depressive disorders - Sex: Both - Age: Age-standardized (Percent)                    0\n",
              "Prevalence - Alcohol use disorders - Sex: Both - Age: Age-standardized (Percent)                   0\n",
              "DALYs (Disability-Adjusted Life Years) - Mental disorders - Sex: Both - Age: All Ages (Percent)    0\n",
              "dtype: int64"
            ]
          },
          "metadata": {},
          "execution_count": 7
        }
      ],
      "source": [
        "dataset.isnull().sum()"
      ]
    },
    {
      "cell_type": "code",
      "execution_count": null,
      "metadata": {
        "colab": {
          "base_uri": "https://localhost:8080/"
        },
        "id": "sVIBhPOhrQ4w",
        "outputId": "ff49164f-d9b0-41db-bb75-d16efe4d482f"
      },
      "outputs": [
        {
          "output_type": "stream",
          "name": "stderr",
          "text": [
            "<ipython-input-8-277058c448a3>:1: FutureWarning: DataFrame.set_axis 'inplace' keyword is deprecated and will be removed in a future version. Use `obj = obj.set_axis(..., copy=False)` instead\n",
            "  dataset.set_axis(['Country','Year','Schizophrenia', 'Bipolar_disorder', 'Eating_disorder','Anxiety','drug_usage','depression',\n"
          ]
        }
      ],
      "source": [
        "dataset.set_axis(['Country','Year','Schizophrenia', 'Bipolar_disorder', 'Eating_disorder','Anxiety','drug_usage','depression',\n",
        "                  'alcohol','mental_fitness'], axis='columns', inplace=True)"
      ]
    },
    {
      "cell_type": "code",
      "execution_count": null,
      "metadata": {
        "colab": {
          "base_uri": "https://localhost:8080/",
          "height": 206
        },
        "id": "uTupnXgzrYdB",
        "outputId": "941d9176-e11f-4792-c171-b804f1611877"
      },
      "outputs": [
        {
          "output_type": "execute_result",
          "data": {
            "text/plain": [
              "       Country  Year  Schizophrenia  Bipolar_disorder  Eating_disorder  \\\n",
              "0  Afghanistan  1990       0.228979          0.721207         0.131001   \n",
              "1  Afghanistan  1991       0.228120          0.719952         0.126395   \n",
              "2  Afghanistan  1992       0.227328          0.718418         0.121832   \n",
              "3  Afghanistan  1993       0.226468          0.717452         0.117942   \n",
              "4  Afghanistan  1994       0.225567          0.717012         0.114547   \n",
              "\n",
              "    Anxiety  drug_usage  depression   alcohol  mental_fitness  \n",
              "0  4.835127    0.454202    5.125291  0.444036        1.696670  \n",
              "1  4.821765    0.447112    5.116306  0.444250        1.734281  \n",
              "2  4.801434    0.441190    5.106558  0.445501        1.791189  \n",
              "3  4.789363    0.435581    5.100328  0.445958        1.776779  \n",
              "4  4.784923    0.431822    5.099424  0.445779        1.712986  "
            ],
            "text/html": [
              "\n",
              "  <div id=\"df-9caccac0-b044-4677-8482-12bdc12ba0ed\">\n",
              "    <div class=\"colab-df-container\">\n",
              "      <div>\n",
              "<style scoped>\n",
              "    .dataframe tbody tr th:only-of-type {\n",
              "        vertical-align: middle;\n",
              "    }\n",
              "\n",
              "    .dataframe tbody tr th {\n",
              "        vertical-align: top;\n",
              "    }\n",
              "\n",
              "    .dataframe thead th {\n",
              "        text-align: right;\n",
              "    }\n",
              "</style>\n",
              "<table border=\"1\" class=\"dataframe\">\n",
              "  <thead>\n",
              "    <tr style=\"text-align: right;\">\n",
              "      <th></th>\n",
              "      <th>Country</th>\n",
              "      <th>Year</th>\n",
              "      <th>Schizophrenia</th>\n",
              "      <th>Bipolar_disorder</th>\n",
              "      <th>Eating_disorder</th>\n",
              "      <th>Anxiety</th>\n",
              "      <th>drug_usage</th>\n",
              "      <th>depression</th>\n",
              "      <th>alcohol</th>\n",
              "      <th>mental_fitness</th>\n",
              "    </tr>\n",
              "  </thead>\n",
              "  <tbody>\n",
              "    <tr>\n",
              "      <th>0</th>\n",
              "      <td>Afghanistan</td>\n",
              "      <td>1990</td>\n",
              "      <td>0.228979</td>\n",
              "      <td>0.721207</td>\n",
              "      <td>0.131001</td>\n",
              "      <td>4.835127</td>\n",
              "      <td>0.454202</td>\n",
              "      <td>5.125291</td>\n",
              "      <td>0.444036</td>\n",
              "      <td>1.696670</td>\n",
              "    </tr>\n",
              "    <tr>\n",
              "      <th>1</th>\n",
              "      <td>Afghanistan</td>\n",
              "      <td>1991</td>\n",
              "      <td>0.228120</td>\n",
              "      <td>0.719952</td>\n",
              "      <td>0.126395</td>\n",
              "      <td>4.821765</td>\n",
              "      <td>0.447112</td>\n",
              "      <td>5.116306</td>\n",
              "      <td>0.444250</td>\n",
              "      <td>1.734281</td>\n",
              "    </tr>\n",
              "    <tr>\n",
              "      <th>2</th>\n",
              "      <td>Afghanistan</td>\n",
              "      <td>1992</td>\n",
              "      <td>0.227328</td>\n",
              "      <td>0.718418</td>\n",
              "      <td>0.121832</td>\n",
              "      <td>4.801434</td>\n",
              "      <td>0.441190</td>\n",
              "      <td>5.106558</td>\n",
              "      <td>0.445501</td>\n",
              "      <td>1.791189</td>\n",
              "    </tr>\n",
              "    <tr>\n",
              "      <th>3</th>\n",
              "      <td>Afghanistan</td>\n",
              "      <td>1993</td>\n",
              "      <td>0.226468</td>\n",
              "      <td>0.717452</td>\n",
              "      <td>0.117942</td>\n",
              "      <td>4.789363</td>\n",
              "      <td>0.435581</td>\n",
              "      <td>5.100328</td>\n",
              "      <td>0.445958</td>\n",
              "      <td>1.776779</td>\n",
              "    </tr>\n",
              "    <tr>\n",
              "      <th>4</th>\n",
              "      <td>Afghanistan</td>\n",
              "      <td>1994</td>\n",
              "      <td>0.225567</td>\n",
              "      <td>0.717012</td>\n",
              "      <td>0.114547</td>\n",
              "      <td>4.784923</td>\n",
              "      <td>0.431822</td>\n",
              "      <td>5.099424</td>\n",
              "      <td>0.445779</td>\n",
              "      <td>1.712986</td>\n",
              "    </tr>\n",
              "  </tbody>\n",
              "</table>\n",
              "</div>\n",
              "      <button class=\"colab-df-convert\" onclick=\"convertToInteractive('df-9caccac0-b044-4677-8482-12bdc12ba0ed')\"\n",
              "              title=\"Convert this dataframe to an interactive table.\"\n",
              "              style=\"display:none;\">\n",
              "        \n",
              "  <svg xmlns=\"http://www.w3.org/2000/svg\" height=\"24px\"viewBox=\"0 0 24 24\"\n",
              "       width=\"24px\">\n",
              "    <path d=\"M0 0h24v24H0V0z\" fill=\"none\"/>\n",
              "    <path d=\"M18.56 5.44l.94 2.06.94-2.06 2.06-.94-2.06-.94-.94-2.06-.94 2.06-2.06.94zm-11 1L8.5 8.5l.94-2.06 2.06-.94-2.06-.94L8.5 2.5l-.94 2.06-2.06.94zm10 10l.94 2.06.94-2.06 2.06-.94-2.06-.94-.94-2.06-.94 2.06-2.06.94z\"/><path d=\"M17.41 7.96l-1.37-1.37c-.4-.4-.92-.59-1.43-.59-.52 0-1.04.2-1.43.59L10.3 9.45l-7.72 7.72c-.78.78-.78 2.05 0 2.83L4 21.41c.39.39.9.59 1.41.59.51 0 1.02-.2 1.41-.59l7.78-7.78 2.81-2.81c.8-.78.8-2.07 0-2.86zM5.41 20L4 18.59l7.72-7.72 1.47 1.35L5.41 20z\"/>\n",
              "  </svg>\n",
              "      </button>\n",
              "      \n",
              "  <style>\n",
              "    .colab-df-container {\n",
              "      display:flex;\n",
              "      flex-wrap:wrap;\n",
              "      gap: 12px;\n",
              "    }\n",
              "\n",
              "    .colab-df-convert {\n",
              "      background-color: #E8F0FE;\n",
              "      border: none;\n",
              "      border-radius: 50%;\n",
              "      cursor: pointer;\n",
              "      display: none;\n",
              "      fill: #1967D2;\n",
              "      height: 32px;\n",
              "      padding: 0 0 0 0;\n",
              "      width: 32px;\n",
              "    }\n",
              "\n",
              "    .colab-df-convert:hover {\n",
              "      background-color: #E2EBFA;\n",
              "      box-shadow: 0px 1px 2px rgba(60, 64, 67, 0.3), 0px 1px 3px 1px rgba(60, 64, 67, 0.15);\n",
              "      fill: #174EA6;\n",
              "    }\n",
              "\n",
              "    [theme=dark] .colab-df-convert {\n",
              "      background-color: #3B4455;\n",
              "      fill: #D2E3FC;\n",
              "    }\n",
              "\n",
              "    [theme=dark] .colab-df-convert:hover {\n",
              "      background-color: #434B5C;\n",
              "      box-shadow: 0px 1px 3px 1px rgba(0, 0, 0, 0.15);\n",
              "      filter: drop-shadow(0px 1px 2px rgba(0, 0, 0, 0.3));\n",
              "      fill: #FFFFFF;\n",
              "    }\n",
              "  </style>\n",
              "\n",
              "      <script>\n",
              "        const buttonEl =\n",
              "          document.querySelector('#df-9caccac0-b044-4677-8482-12bdc12ba0ed button.colab-df-convert');\n",
              "        buttonEl.style.display =\n",
              "          google.colab.kernel.accessAllowed ? 'block' : 'none';\n",
              "\n",
              "        async function convertToInteractive(key) {\n",
              "          const element = document.querySelector('#df-9caccac0-b044-4677-8482-12bdc12ba0ed');\n",
              "          const dataTable =\n",
              "            await google.colab.kernel.invokeFunction('convertToInteractive',\n",
              "                                                     [key], {});\n",
              "          if (!dataTable) return;\n",
              "\n",
              "          const docLinkHtml = 'Like what you see? Visit the ' +\n",
              "            '<a target=\"_blank\" href=https://colab.research.google.com/notebooks/data_table.ipynb>data table notebook</a>'\n",
              "            + ' to learn more about interactive tables.';\n",
              "          element.innerHTML = '';\n",
              "          dataTable['output_type'] = 'display_data';\n",
              "          await google.colab.output.renderOutput(dataTable, element);\n",
              "          const docLink = document.createElement('div');\n",
              "          docLink.innerHTML = docLinkHtml;\n",
              "          element.appendChild(docLink);\n",
              "        }\n",
              "      </script>\n",
              "    </div>\n",
              "  </div>\n",
              "  "
            ]
          },
          "metadata": {},
          "execution_count": 9
        }
      ],
      "source": [
        "dataset.head()"
      ]
    },
    {
      "cell_type": "markdown",
      "metadata": {
        "id": "4K0xQRFCt2l6"
      },
      "source": [
        "# **Encoding the Categorical values**"
      ]
    },
    {
      "cell_type": "code",
      "execution_count": null,
      "metadata": {
        "colab": {
          "base_uri": "https://localhost:8080/",
          "height": 206
        },
        "id": "C75CN0TcrtEj",
        "outputId": "2958fb83-675d-4e45-adb3-3af60fe57356"
      },
      "outputs": [
        {
          "output_type": "execute_result",
          "data": {
            "text/plain": [
              "   Country  Year  Schizophrenia  Bipolar_disorder  Eating_disorder   Anxiety  \\\n",
              "0        0  1990       0.228979          0.721207         0.131001  4.835127   \n",
              "1        0  1991       0.228120          0.719952         0.126395  4.821765   \n",
              "2        0  1992       0.227328          0.718418         0.121832  4.801434   \n",
              "3        0  1993       0.226468          0.717452         0.117942  4.789363   \n",
              "4        0  1994       0.225567          0.717012         0.114547  4.784923   \n",
              "\n",
              "   drug_usage  depression   alcohol  mental_fitness  \n",
              "0    0.454202    5.125291  0.444036        1.696670  \n",
              "1    0.447112    5.116306  0.444250        1.734281  \n",
              "2    0.441190    5.106558  0.445501        1.791189  \n",
              "3    0.435581    5.100328  0.445958        1.776779  \n",
              "4    0.431822    5.099424  0.445779        1.712986  "
            ],
            "text/html": [
              "\n",
              "  <div id=\"df-411ab49f-e77d-4363-a64c-537ebc78317e\">\n",
              "    <div class=\"colab-df-container\">\n",
              "      <div>\n",
              "<style scoped>\n",
              "    .dataframe tbody tr th:only-of-type {\n",
              "        vertical-align: middle;\n",
              "    }\n",
              "\n",
              "    .dataframe tbody tr th {\n",
              "        vertical-align: top;\n",
              "    }\n",
              "\n",
              "    .dataframe thead th {\n",
              "        text-align: right;\n",
              "    }\n",
              "</style>\n",
              "<table border=\"1\" class=\"dataframe\">\n",
              "  <thead>\n",
              "    <tr style=\"text-align: right;\">\n",
              "      <th></th>\n",
              "      <th>Country</th>\n",
              "      <th>Year</th>\n",
              "      <th>Schizophrenia</th>\n",
              "      <th>Bipolar_disorder</th>\n",
              "      <th>Eating_disorder</th>\n",
              "      <th>Anxiety</th>\n",
              "      <th>drug_usage</th>\n",
              "      <th>depression</th>\n",
              "      <th>alcohol</th>\n",
              "      <th>mental_fitness</th>\n",
              "    </tr>\n",
              "  </thead>\n",
              "  <tbody>\n",
              "    <tr>\n",
              "      <th>0</th>\n",
              "      <td>0</td>\n",
              "      <td>1990</td>\n",
              "      <td>0.228979</td>\n",
              "      <td>0.721207</td>\n",
              "      <td>0.131001</td>\n",
              "      <td>4.835127</td>\n",
              "      <td>0.454202</td>\n",
              "      <td>5.125291</td>\n",
              "      <td>0.444036</td>\n",
              "      <td>1.696670</td>\n",
              "    </tr>\n",
              "    <tr>\n",
              "      <th>1</th>\n",
              "      <td>0</td>\n",
              "      <td>1991</td>\n",
              "      <td>0.228120</td>\n",
              "      <td>0.719952</td>\n",
              "      <td>0.126395</td>\n",
              "      <td>4.821765</td>\n",
              "      <td>0.447112</td>\n",
              "      <td>5.116306</td>\n",
              "      <td>0.444250</td>\n",
              "      <td>1.734281</td>\n",
              "    </tr>\n",
              "    <tr>\n",
              "      <th>2</th>\n",
              "      <td>0</td>\n",
              "      <td>1992</td>\n",
              "      <td>0.227328</td>\n",
              "      <td>0.718418</td>\n",
              "      <td>0.121832</td>\n",
              "      <td>4.801434</td>\n",
              "      <td>0.441190</td>\n",
              "      <td>5.106558</td>\n",
              "      <td>0.445501</td>\n",
              "      <td>1.791189</td>\n",
              "    </tr>\n",
              "    <tr>\n",
              "      <th>3</th>\n",
              "      <td>0</td>\n",
              "      <td>1993</td>\n",
              "      <td>0.226468</td>\n",
              "      <td>0.717452</td>\n",
              "      <td>0.117942</td>\n",
              "      <td>4.789363</td>\n",
              "      <td>0.435581</td>\n",
              "      <td>5.100328</td>\n",
              "      <td>0.445958</td>\n",
              "      <td>1.776779</td>\n",
              "    </tr>\n",
              "    <tr>\n",
              "      <th>4</th>\n",
              "      <td>0</td>\n",
              "      <td>1994</td>\n",
              "      <td>0.225567</td>\n",
              "      <td>0.717012</td>\n",
              "      <td>0.114547</td>\n",
              "      <td>4.784923</td>\n",
              "      <td>0.431822</td>\n",
              "      <td>5.099424</td>\n",
              "      <td>0.445779</td>\n",
              "      <td>1.712986</td>\n",
              "    </tr>\n",
              "  </tbody>\n",
              "</table>\n",
              "</div>\n",
              "      <button class=\"colab-df-convert\" onclick=\"convertToInteractive('df-411ab49f-e77d-4363-a64c-537ebc78317e')\"\n",
              "              title=\"Convert this dataframe to an interactive table.\"\n",
              "              style=\"display:none;\">\n",
              "        \n",
              "  <svg xmlns=\"http://www.w3.org/2000/svg\" height=\"24px\"viewBox=\"0 0 24 24\"\n",
              "       width=\"24px\">\n",
              "    <path d=\"M0 0h24v24H0V0z\" fill=\"none\"/>\n",
              "    <path d=\"M18.56 5.44l.94 2.06.94-2.06 2.06-.94-2.06-.94-.94-2.06-.94 2.06-2.06.94zm-11 1L8.5 8.5l.94-2.06 2.06-.94-2.06-.94L8.5 2.5l-.94 2.06-2.06.94zm10 10l.94 2.06.94-2.06 2.06-.94-2.06-.94-.94-2.06-.94 2.06-2.06.94z\"/><path d=\"M17.41 7.96l-1.37-1.37c-.4-.4-.92-.59-1.43-.59-.52 0-1.04.2-1.43.59L10.3 9.45l-7.72 7.72c-.78.78-.78 2.05 0 2.83L4 21.41c.39.39.9.59 1.41.59.51 0 1.02-.2 1.41-.59l7.78-7.78 2.81-2.81c.8-.78.8-2.07 0-2.86zM5.41 20L4 18.59l7.72-7.72 1.47 1.35L5.41 20z\"/>\n",
              "  </svg>\n",
              "      </button>\n",
              "      \n",
              "  <style>\n",
              "    .colab-df-container {\n",
              "      display:flex;\n",
              "      flex-wrap:wrap;\n",
              "      gap: 12px;\n",
              "    }\n",
              "\n",
              "    .colab-df-convert {\n",
              "      background-color: #E8F0FE;\n",
              "      border: none;\n",
              "      border-radius: 50%;\n",
              "      cursor: pointer;\n",
              "      display: none;\n",
              "      fill: #1967D2;\n",
              "      height: 32px;\n",
              "      padding: 0 0 0 0;\n",
              "      width: 32px;\n",
              "    }\n",
              "\n",
              "    .colab-df-convert:hover {\n",
              "      background-color: #E2EBFA;\n",
              "      box-shadow: 0px 1px 2px rgba(60, 64, 67, 0.3), 0px 1px 3px 1px rgba(60, 64, 67, 0.15);\n",
              "      fill: #174EA6;\n",
              "    }\n",
              "\n",
              "    [theme=dark] .colab-df-convert {\n",
              "      background-color: #3B4455;\n",
              "      fill: #D2E3FC;\n",
              "    }\n",
              "\n",
              "    [theme=dark] .colab-df-convert:hover {\n",
              "      background-color: #434B5C;\n",
              "      box-shadow: 0px 1px 3px 1px rgba(0, 0, 0, 0.15);\n",
              "      filter: drop-shadow(0px 1px 2px rgba(0, 0, 0, 0.3));\n",
              "      fill: #FFFFFF;\n",
              "    }\n",
              "  </style>\n",
              "\n",
              "      <script>\n",
              "        const buttonEl =\n",
              "          document.querySelector('#df-411ab49f-e77d-4363-a64c-537ebc78317e button.colab-df-convert');\n",
              "        buttonEl.style.display =\n",
              "          google.colab.kernel.accessAllowed ? 'block' : 'none';\n",
              "\n",
              "        async function convertToInteractive(key) {\n",
              "          const element = document.querySelector('#df-411ab49f-e77d-4363-a64c-537ebc78317e');\n",
              "          const dataTable =\n",
              "            await google.colab.kernel.invokeFunction('convertToInteractive',\n",
              "                                                     [key], {});\n",
              "          if (!dataTable) return;\n",
              "\n",
              "          const docLinkHtml = 'Like what you see? Visit the ' +\n",
              "            '<a target=\"_blank\" href=https://colab.research.google.com/notebooks/data_table.ipynb>data table notebook</a>'\n",
              "            + ' to learn more about interactive tables.';\n",
              "          element.innerHTML = '';\n",
              "          dataTable['output_type'] = 'display_data';\n",
              "          await google.colab.output.renderOutput(dataTable, element);\n",
              "          const docLink = document.createElement('div');\n",
              "          docLink.innerHTML = docLinkHtml;\n",
              "          element.appendChild(docLink);\n",
              "        }\n",
              "      </script>\n",
              "    </div>\n",
              "  </div>\n",
              "  "
            ]
          },
          "metadata": {},
          "execution_count": 10
        }
      ],
      "source": [
        "from sklearn.preprocessing import LabelEncoder\n",
        "l=LabelEncoder()\n",
        "for i in dataset.columns:\n",
        "    if dataset[i].dtype == 'object':\n",
        "        dataset[i]=l.fit_transform(dataset[i])\n",
        "\n",
        "\n",
        "dataset.head()"
      ]
    },
    {
      "cell_type": "code",
      "execution_count": null,
      "metadata": {
        "colab": {
          "base_uri": "https://localhost:8080/"
        },
        "id": "-oWSBVCutIBy",
        "outputId": "dcc253d3-d2d5-4af9-f1e4-d791f2f51b56"
      },
      "outputs": [
        {
          "output_type": "execute_result",
          "data": {
            "text/plain": [
              "array([  0,   1,   2,   3,   4,   5,   6,   7,   8,   9,  10,  11,  12,\n",
              "        13,  14,  15,  16,  17,  18,  19,  20,  21,  22,  23,  24,  25,\n",
              "        26,  27,  28,  29,  30,  31,  32,  33,  34,  35,  36,  37,  38,\n",
              "        39,  40,  41,  42,  43,  44,  45,  46,  47,  48,  49,  50,  51,\n",
              "        52,  53,  54,  55,  56,  57,  58,  59,  60,  61,  62,  63,  64,\n",
              "        65,  66,  67,  68,  69,  70,  71,  72,  73,  74,  75,  76,  77,\n",
              "        78,  79,  80,  81,  82,  83,  84,  85,  86,  87,  88,  89,  90,\n",
              "        91,  92,  93,  94,  95,  96,  97,  98,  99, 100, 101, 102, 103,\n",
              "       104, 105, 106, 107, 108, 109, 110, 111, 112, 113, 114, 115, 116,\n",
              "       117, 118, 119, 120, 121, 122, 123, 124, 125, 126, 127, 128, 129,\n",
              "       130, 131, 132, 133, 134, 135, 136, 137, 138, 139, 140, 141, 142,\n",
              "       143, 144, 145, 146, 147, 148, 149, 150, 151, 152, 153, 154, 155,\n",
              "       156, 157, 158, 159, 160, 161, 162, 163, 164, 165, 166, 167, 168,\n",
              "       169, 170, 171, 172, 173, 174, 175, 176, 177, 178, 179, 180, 181,\n",
              "       182, 183, 184, 185, 186, 187, 188, 189, 190, 191, 192, 193, 194,\n",
              "       195, 196, 197, 198, 199, 200, 201, 202, 203, 204, 205, 206, 207,\n",
              "       208, 209, 210, 211, 212, 213, 214, 215, 216, 217, 218, 219, 220,\n",
              "       221, 222, 223, 224, 225, 226, 227])"
            ]
          },
          "metadata": {},
          "execution_count": 11
        }
      ],
      "source": [
        "dataset['Country'].unique()"
      ]
    },
    {
      "cell_type": "markdown",
      "metadata": {
        "id": "CubI5o10uAO6"
      },
      "source": [
        "# **Assigning feautre of Matrix and Dependent Variable**"
      ]
    },
    {
      "cell_type": "code",
      "execution_count": null,
      "metadata": {
        "id": "0TFANc0btTSa"
      },
      "outputs": [],
      "source": [
        "x=dataset.iloc[:,:-1].values\n",
        "y=dataset.iloc[:,-1].values\n",
        "\n"
      ]
    },
    {
      "cell_type": "markdown",
      "metadata": {
        "id": "6nzzBIrWuABJ"
      },
      "source": [
        "# **Spliting the Dataset into Training set and Test set**"
      ]
    },
    {
      "cell_type": "code",
      "execution_count": null,
      "metadata": {
        "id": "TQJuh_mevBqu"
      },
      "outputs": [],
      "source": [
        "from sklearn.model_selection import train_test_split\n",
        "x_train,x_test,y_train,y_test=train_test_split(x,y,test_size=0.2,random_state=0)\n"
      ]
    },
    {
      "cell_type": "markdown",
      "metadata": {
        "id": "-ZXzVLo1vjGT"
      },
      "source": [
        "# **Implementing the Regression Algorithms and choose which one is better based on results**"
      ]
    },
    {
      "cell_type": "markdown",
      "metadata": {
        "id": "mh2e3-2vwioM"
      },
      "source": [
        "# **1)Linear regression**"
      ]
    },
    {
      "cell_type": "code",
      "execution_count": null,
      "metadata": {
        "colab": {
          "base_uri": "https://localhost:8080/"
        },
        "id": "Y9QnyLVcwr5L",
        "outputId": "1b8c5446-427e-4bfd-f62f-830ded00116a"
      },
      "outputs": [
        {
          "output_type": "stream",
          "name": "stdout",
          "text": [
            "Results for Linear Regression:\n",
            "1)Mean Square Error=1.268275495178511\n",
            "2)R-Square Score=0.7535618783142042\n"
          ]
        }
      ],
      "source": [
        "from sklearn.linear_model import LinearRegression\n",
        "lr=LinearRegression()\n",
        "lr.fit(x_train,y_train)\n",
        "\n",
        "#predicting the value\n",
        "\n",
        "y_pred=lr.predict(x_test)\n",
        "\n",
        "#evaluating the model\n",
        "\n",
        "from sklearn.metrics import r2_score,mean_squared_error\n",
        "print(\"Results for Linear Regression:\\n1)Mean Square Error={}\\n2)R-Square Score={}\".format(mean_squared_error(y_test,y_pred),r2_score(y_test,y_pred)))\n",
        "\n",
        "\n"
      ]
    },
    {
      "cell_type": "markdown",
      "metadata": {
        "id": "o6H621qOyy-1"
      },
      "source": [
        "# **2)SVM Regression**"
      ]
    },
    {
      "cell_type": "code",
      "execution_count": null,
      "metadata": {
        "colab": {
          "base_uri": "https://localhost:8080/"
        },
        "id": "k-KSXigXy75W",
        "outputId": "4701c55c-1f9e-48f5-833f-8b21d89b7c63"
      },
      "outputs": [
        {
          "output_type": "stream",
          "name": "stdout",
          "text": [
            "Results for SVM Regression:\n",
            "1)Mean Square Error=5.142868786829984\n",
            "2)R-Square Score=0.0006911521029575596\n"
          ]
        }
      ],
      "source": [
        "from sklearn.svm import SVR\n",
        "svr=SVR()\n",
        "svr.fit(x_train,y_train)\n",
        "\n",
        "#predicting the value\n",
        "\n",
        "y_pred=svr.predict(x_test)\n",
        "\n",
        "#evaluating the model\n",
        "\n",
        "from sklearn.metrics import r2_score,mean_squared_error\n",
        "print(\"Results for SVM Regression:\\n1)Mean Square Error={}\\n2)R-Square Score={}\".format(mean_squared_error(y_test,y_pred),r2_score(y_test,y_pred)))\n",
        "\n",
        "\n"
      ]
    },
    {
      "cell_type": "markdown",
      "metadata": {
        "id": "I4lvyj4NzwP9"
      },
      "source": [
        "# **3)Decision Tree Regression**"
      ]
    },
    {
      "cell_type": "code",
      "execution_count": null,
      "metadata": {
        "colab": {
          "base_uri": "https://localhost:8080/"
        },
        "id": "SHHzMq62z5gS",
        "outputId": "91eb0910-aa52-4847-cdfa-ed65aef0752b"
      },
      "outputs": [
        {
          "output_type": "stream",
          "name": "stdout",
          "text": [
            "Results for Decision Tree Regression:\n",
            "1)Mean Square Error=0.0756416226426259\n",
            "2)R-Square Score=0.9853021055155758\n"
          ]
        }
      ],
      "source": [
        "from sklearn.tree import DecisionTreeRegressor\n",
        "dtr=DecisionTreeRegressor(random_state=0)\n",
        "dtr.fit(x_train,y_train)\n",
        "\n",
        "#predicting the value\n",
        "\n",
        "y_pred=dtr.predict(x_test)\n",
        "\n",
        "#evaluating the model\n",
        "\n",
        "from sklearn.metrics import r2_score,mean_squared_error\n",
        "print(\"Results for Decision Tree Regression:\\n1)Mean Square Error={}\\n2)R-Square Score={}\".format(mean_squared_error(y_test,y_pred),r2_score(y_test,y_pred)))\n",
        "\n"
      ]
    },
    {
      "cell_type": "markdown",
      "metadata": {
        "id": "lh3lQbYR0YlG"
      },
      "source": [
        "# **4)Random Forest Regression**"
      ]
    },
    {
      "cell_type": "code",
      "execution_count": null,
      "metadata": {
        "colab": {
          "base_uri": "https://localhost:8080/"
        },
        "id": "f-Za5ghL0fa2",
        "outputId": "4066799d-7596-4b81-b1ec-6b133323b87f"
      },
      "outputs": [
        {
          "output_type": "stream",
          "name": "stdout",
          "text": [
            "Results for Decision Tree Regression:\n",
            "1)Mean Square Error=0.03591765730830721\n",
            "2)R-Square Score=0.9930208538790956\n"
          ]
        }
      ],
      "source": [
        "from sklearn.ensemble import RandomForestRegressor\n",
        "rfr= RandomForestRegressor(n_estimators=10,random_state=42)\n",
        "rfr.fit(x_train,y_train)\n",
        "\n",
        "#predicting the value\n",
        "\n",
        "y_pred=rfr.predict(x_test)\n",
        "\n",
        "#evaluating the model\n",
        "\n",
        "from sklearn.metrics import r2_score,mean_squared_error\n",
        "print(\"Results for Decision Tree Regression:\\n1)Mean Square Error={}\\n2)R-Square Score={}\".format(mean_squared_error(y_test,y_pred),r2_score(y_test,y_pred)))\n",
        "\n",
        "\n"
      ]
    },
    {
      "cell_type": "markdown",
      "metadata": {
        "id": "QuXJvwMgFRPZ"
      },
      "source": [
        "# **Conclusion:**\n",
        "\n",
        "# **Random Forest Regression works** well on both train and test sets with r2 score of 0.99.\n",
        "\n",
        "# As well as **Decision Tree Regression** also works well on both train and test set with r2 score of 0.98."
      ]
    },
    {
      "cell_type": "markdown",
      "source": [
        "# **Predicting the value from the model using Random Forest Regression**"
      ],
      "metadata": {
        "id": "pBxm5ffIYlXl"
      }
    },
    {
      "cell_type": "code",
      "execution_count": null,
      "metadata": {
        "colab": {
          "base_uri": "https://localhost:8080/"
        },
        "id": "9YPIitguIhcL",
        "outputId": "3ddd27ca-48a6-4857-f2ad-52dc0a12a194"
      },
      "outputs": [
        {
          "output_type": "stream",
          "name": "stdout",
          "text": [
            "Welcome to Mental Fitness Tracker!\n",
            "Fill the detail to check your mental fitness!\n",
            "Enter Your country Name:India\n",
            "Enter the Year:2023\n",
            "Enter your Schizophrenia rate in % (it not enter 0):20\n",
            "Enter your Bipolar disorder rate in % (it not enter 0):30\n",
            "Enter your Eating disorder rate in % (it not enter 0):20\n",
            "Enter your Anxiety rate in % (it not enter 0):40\n",
            "Enter your Drug Usage rate in per year % (it not enter 0):30\n",
            "Enter your Depression rate in % (it not enter 0):44\n",
            "Enter your Alcohol Consuming rate per year in % (it not enter 0):22\n",
            "Your Mental Fitness is [9.82035265]%\n",
            "Bye...!\n"
          ]
        }
      ],
      "source": [
        "np.random.seed(range(0,100))\n",
        "print(\"Welcome to Mental Fitness Tracker!\\nFill the detail to check your mental fitness!\")\n",
        "country=l.fit_transform([input('Enter Your country Name:')])\n",
        "year=int(input(\"Enter the Year:\"))\n",
        "schi=(float(input(\"Enter your Schizophrenia rate in % (it not enter 0):\")))*100\n",
        "bipo_dis=(float(input(\"Enter your Bipolar disorder rate in % (it not enter 0):\")))*100\n",
        "eat_dis=(float(input(\"Enter your Eating disorder rate in % (it not enter 0):\")))*100\n",
        "anx=(float(input(\"Enter your Anxiety rate in % (it not enter 0):\")))*10\n",
        "drug_use=(float(input(\"Enter your Drug Usage rate in per year % (it not enter 0):\")))*100\n",
        "depr=(float(input(\"Enter your Depression rate in % (it not enter 0):\")))*10\n",
        "alch=(float(input(\"Enter your Alcohol Consuming rate per year in % (it not enter 0):\")))*100\n",
        "\n",
        "prediction=rfr.predict([[country,year,schi,bipo_dis,eat_dis,anx,drug_use,depr,alch]])\n",
        "print(\"Your Mental Fitness is {}%\".format(prediction))\n",
        "print(\"Bye...!\")"
      ]
    },
    {
      "cell_type": "markdown",
      "source": [
        "# **Saving a model**"
      ],
      "metadata": {
        "id": "zHyrjFjshKvh"
      }
    },
    {
      "cell_type": "code",
      "source": [
        "from joblib import dump,load\n",
        "dump(rfr,'mymodel.joblib')"
      ],
      "metadata": {
        "colab": {
          "base_uri": "https://localhost:8080/"
        },
        "id": "8nUQBkbihJIx",
        "outputId": "db3455dc-9ccf-4297-9036-4f100967fed0"
      },
      "execution_count": null,
      "outputs": [
        {
          "output_type": "execute_result",
          "data": {
            "text/plain": [
              "['mymodel.joblib']"
            ]
          },
          "metadata": {},
          "execution_count": 21
        }
      ]
    },
    {
      "cell_type": "markdown",
      "source": [
        "# **Load the Model**"
      ],
      "metadata": {
        "id": "GF367q5CiGaI"
      }
    },
    {
      "cell_type": "code",
      "source": [
        "obj=load('/content/mymodel.joblib')\n",
        "obj.predict([[0,2023,0.22,0.034,40,0.34,0.65,0.65,0.22]])"
      ],
      "metadata": {
        "colab": {
          "base_uri": "https://localhost:8080/"
        },
        "id": "hc6btq9BiFTR",
        "outputId": "2546f5e7-e9de-4485-d4f1-3f10317a54ac"
      },
      "execution_count": null,
      "outputs": [
        {
          "output_type": "execute_result",
          "data": {
            "text/plain": [
              "array([9.18861697])"
            ]
          },
          "metadata": {},
          "execution_count": 27
        }
      ]
    }
  ],
  "metadata": {
    "colab": {
      "provenance": [],
      "include_colab_link": true
    },
    "kernelspec": {
      "display_name": "Python 3",
      "name": "python3"
    },
    "language_info": {
      "name": "python"
    }
  },
  "nbformat": 4,
  "nbformat_minor": 0
}